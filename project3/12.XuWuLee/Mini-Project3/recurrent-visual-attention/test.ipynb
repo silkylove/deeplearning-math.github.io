{
 "cells": [
  {
   "cell_type": "code",
   "execution_count": 13,
   "metadata": {},
   "outputs": [],
   "source": [
    "from data_loader import get_fashion_train_valid_loader, get_train_valid_loader, get_cluttered_train_valid_loader\n",
    "import matplotlib.pylab as plt"
   ]
  },
  {
   "cell_type": "code",
   "execution_count": 22,
   "metadata": {},
   "outputs": [],
   "source": [
    "data_dir = './data'\n",
    "batch_size = 32\n",
    "random_seed = 1\n",
    "valid_size = 0.1\n",
    "shuffle = True\n",
    "show_sample = True"
   ]
  },
  {
   "cell_type": "code",
   "execution_count": 23,
   "metadata": {},
   "outputs": [],
   "source": [
    "# train_loader, valid_loader = get_train_valid_loader(\n",
    "#             data_dir, batch_size,\n",
    "#             random_seed, valid_size,\n",
    "#             shuffle, show_sample\n",
    "#         )\n",
    "\n",
    "# train_loader, valid_loader = get_cluttered_train_valid_loader(\n",
    "#             '../mnist_sequence1_sample_5distortions5x5.npz', batch_size,\n",
    "#             valid_size, shuffle\n",
    "#         )\n",
    "\n",
    "data_dir = '../data/fashion'\n",
    "train_loader, valid_loader = get_fashion_train_valid_loader(\n",
    "            data_dir, batch_size,\n",
    "            random_seed, valid_size,\n",
    "            shuffle, show_sample\n",
    "        )"
   ]
  },
  {
   "cell_type": "code",
   "execution_count": 24,
   "metadata": {},
   "outputs": [
    {
     "data": {
      "text/plain": [
       "1688"
      ]
     },
     "execution_count": 24,
     "metadata": {},
     "output_type": "execute_result"
    }
   ],
   "source": [
    "len(train_loader)"
   ]
  },
  {
   "cell_type": "code",
   "execution_count": 25,
   "metadata": {},
   "outputs": [
    {
     "data": {
      "text/plain": [
       "188"
      ]
     },
     "execution_count": 25,
     "metadata": {},
     "output_type": "execute_result"
    }
   ],
   "source": [
    "len(valid_loader)"
   ]
  },
  {
   "cell_type": "code",
   "execution_count": 26,
   "metadata": {},
   "outputs": [
    {
     "name": "stdout",
     "output_type": "stream",
     "text": [
      "torch.Size([1, 28, 28])\n"
     ]
    },
    {
     "data": {
      "image/png": "[encoded data removed]",
      "text/plain": [
       "<matplotlib.figure.Figure at 0x7fb5ceb5d470>"
      ]
     },
     "metadata": {},
     "output_type": "display_data"
    }
   ],
   "source": [
    "for i, item in enumerate(valid_loader):\n",
    "# #     print(item[0])\n",
    "#     break\n",
    "#     print(item[0].data.cpu().numpy()[0])\n",
    "#     break\n",
    "    label = item[1].data.cpu().numpy()[0]\n",
    "    img = item[0][0]\n",
    "    print(img.shape)\n",
    "    plt.figure(figsize=(3,3))\n",
    "    plt.title(\"Image: {}, Label: {}, Prediction: ?\".format(i, label), {'fontsize': 10})\n",
    "    plt.axis('off')\n",
    "    plt.imshow(img.reshape(28, 28))\n",
    "    \n",
    "    break"
   ]
  },
  {
   "cell_type": "code",
   "execution_count": null,
   "metadata": {},
   "outputs": [],
   "source": []
  }
 ],
 "metadata": {
  "kernelspec": {
   "display_name": "Python 3",
   "language": "python",
   "name": "python3"
  },
  "language_info": {
   "codemirror_mode": {
    "name": "ipython",
    "version": 3
   },
   "file_extension": ".py",
   "mimetype": "text/x-python",
   "name": "python",
   "nbconvert_exporter": "python",
   "pygments_lexer": "ipython3",
   "version": "3.6.4"
  }
 },
 "nbformat": 4,
 "nbformat_minor": 2
}
